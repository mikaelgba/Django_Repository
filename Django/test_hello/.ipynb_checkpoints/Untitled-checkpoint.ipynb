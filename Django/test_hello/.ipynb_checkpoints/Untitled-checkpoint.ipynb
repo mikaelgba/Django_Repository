{
 "cells": [
  {
   "cell_type": "code",
   "execution_count": 8,
   "metadata": {},
   "outputs": [
    {
     "name": "stdout",
     "output_type": "stream",
     "text": [
      "Michael, 23 age, live-in city Guarabira, PB - Brazil, experience with -> Python - Java - JS - R - NodeJS - Django - SQLite - Postgresql - MongoDB - MEMES - \n"
     ]
    }
   ],
   "source": [
    "class Skills( ):\n",
    "    \n",
    "    def __init__( self ):\n",
    "        \n",
    "        self.language = [\"Python\", \"Java\", \"JS\", \"R\", \"NodeJS\", \"Django\", \"SQLite\", \"Postgresql\", \"MongoDB\", \"MEMES\"]\n",
    "      \n",
    "    def list_skills( self ):\n",
    "        \n",
    "        michael = self.I_am()\n",
    "        string_out = michael.description() + \", experience with -> \"\n",
    "        for i in self.language:        \n",
    "            string_out += i + \" - \"              \n",
    "        return string_out\n",
    "    \n",
    "    class I_am( ):\n",
    "    \n",
    "        def __init__( self ):\n",
    "            \n",
    "            self.name = \"Michael\"\n",
    "            self.age = 23\n",
    "            self.city = \"Guarabira\"\n",
    "            self.state = \"PB\"\n",
    "            self.country = \"Brazil\"\n",
    "\n",
    "        def description( self ):\n",
    "            \n",
    "            return \"%s, %d age, live-in city %s, %s - %s\" %(self.name, self.age, self.city, self.state, self.country)\n",
    "\n",
    "michael_print = Skills()        \n",
    "print(michael_print.list_skills())"
   ]
  },
  {
   "cell_type": "code",
   "execution_count": null,
   "metadata": {},
   "outputs": [],
   "source": []
  },
  {
   "cell_type": "code",
   "execution_count": null,
   "metadata": {},
   "outputs": [],
   "source": []
  }
 ],
 "metadata": {
  "kernelspec": {
   "display_name": "Python 3",
   "language": "python",
   "name": "python3"
  },
  "language_info": {
   "codemirror_mode": {
    "name": "ipython",
    "version": 3
   },
   "file_extension": ".py",
   "mimetype": "text/x-python",
   "name": "python",
   "nbconvert_exporter": "python",
   "pygments_lexer": "ipython3",
   "version": "3.7.7"
  }
 },
 "nbformat": 4,
 "nbformat_minor": 4
}
